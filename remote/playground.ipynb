{
  "nbformat": 4,
  "nbformat_minor": 0,
  "metadata": {
    "colab": {
      "name": "playground.ipynb",
      "private_outputs": true,
      "provenance": [],
      "collapsed_sections": [
        "TJXII6Rw-AjD",
        "4_f8yoTONFmF",
        "1gqYYjvHQi8Q",
        "aGXZ7ctsQrfi",
        "YSJlH3VRSIDf"
      ]
    },
    "kernelspec": {
      "name": "python3",
      "display_name": "Python 3"
    }
  },
  "cells": [
    {
      "cell_type": "markdown",
      "metadata": {
        "id": "TJXII6Rw-AjD"
      },
      "source": [
        "# System Specifications\n",
        "\n",
        "Describe the Google Compute Engine backend powering this google-colab session."
      ]
    },
    {
      "cell_type": "code",
      "metadata": {
        "id": "zLRGPzXGKrDF"
      },
      "source": [
        "# Linux kernel version\n",
        "!uname -a"
      ],
      "execution_count": null,
      "outputs": []
    },
    {
      "cell_type": "code",
      "metadata": {
        "id": "ydPFCauxQOqm"
      },
      "source": [
        "# OS name and version\n",
        "!cat /etc/lsb-release"
      ],
      "execution_count": null,
      "outputs": []
    },
    {
      "cell_type": "code",
      "metadata": {
        "id": "CPdCl-huKdm8"
      },
      "source": [
        "# CPU architecture information\n",
        "!lscpu"
      ],
      "execution_count": null,
      "outputs": []
    },
    {
      "cell_type": "code",
      "metadata": {
        "id": "jaMQnUExJvKe"
      },
      "source": [
        "# Check disk space used by filesystem \n",
        "!df -h"
      ],
      "execution_count": null,
      "outputs": []
    },
    {
      "cell_type": "code",
      "metadata": {
        "id": "CG5DvwEdJoBQ"
      },
      "source": [
        "# Check amount of free and used memory (both physical and swap)\n",
        "# on the system as well as the shared memory and buffers used by the kernel\n",
        "!cat /proc/meminfo"
      ],
      "execution_count": null,
      "outputs": []
    },
    {
      "cell_type": "markdown",
      "metadata": {
        "id": "4_f8yoTONFmF"
      },
      "source": [
        "# Who am I?\n",
        "\n",
        "Get the user associated with the current effective user ID and update/set-new password."
      ]
    },
    {
      "cell_type": "code",
      "metadata": {
        "id": "4KAPWQJ4iI4h"
      },
      "source": [
        "# Who am I?\n",
        "!whoami"
      ],
      "execution_count": null,
      "outputs": []
    },
    {
      "cell_type": "code",
      "metadata": {
        "id": "l01NTO5lCnJV"
      },
      "source": [
        "# Update root password\n",
        "!passwd root\n",
        "\n",
        "# OR generate a new password -- uncomment below code\n",
        "# import random, string\n",
        "# rootPassword = ''.join(random.choice(string.ascii_letters + string.digits) for i in range(20))\n",
        "# print('Root Password:', rootPassword)"
      ],
      "execution_count": null,
      "outputs": []
    },
    {
      "cell_type": "code",
      "metadata": {
        "id": "7ITx8Qb14qsO"
      },
      "source": [
        "# Set root password auth\n",
        "# ! echo root:$rootPassword | chpasswd  -- uncomment this line if you are generating a new-password\n",
        "! mkdir -p /var/run/sshd\n",
        "! echo \"PermitRootLogin yes\" >> /etc/ssh/sshd_config\n",
        "! echo \"PasswordAuthentication yes\" >> /etc/ssh/sshd_config\n",
        "! echo \"LD_LIBRARY_PATH=/usr/lib64-nvidia\" >> /root/.bashrc\n",
        "! echo \"export LD_LIBRARY_PATH\" >> /root/.bashrc"
      ],
      "execution_count": null,
      "outputs": []
    },
    {
      "cell_type": "markdown",
      "source": [
        "# Environment Setup\n",
        "\n",
        "Create your own collection of procedures and tools for developing, testing and debugging a program or complete application."
      ],
      "metadata": {
        "id": "eNn1uOFQ6Avi"
      }
    },
    {
      "cell_type": "code",
      "source": [
        "%%shell\n",
        "\n",
        "# Clone dotfiles repository - https://github.com/adisakshya/dotfiles\n",
        "git clone --recursive https://github.com/adisakshya/dotfiles ~/.dotfiles\n",
        "chmod +x ~/.dotfiles/install-profile\n",
        "\n",
        "# Install dotfiles for linux\n",
        "make linux -C ~/.dotfiles"
      ],
      "metadata": {
        "id": "mA6gxoBd6ADN"
      },
      "execution_count": null,
      "outputs": []
    },
    {
      "cell_type": "code",
      "source": [
        "# Create directory to contain log files\n",
        "!mkdir logs"
      ],
      "metadata": {
        "id": "CI-LQJlrQmZV"
      },
      "execution_count": null,
      "outputs": []
    },
    {
      "cell_type": "markdown",
      "source": [
        "Activate Playground - Bootstrap the environment and install [code-server](https://github.com/cdr/code-server)."
      ],
      "metadata": {
        "id": "AWv3PkzAUid5"
      }
    },
    {
      "cell_type": "code",
      "source": [
        "%%shell\n",
        "\n",
        "# Bootstrap remote environment & insall code-server\n",
        "make code -C ~/.dotfiles/remote"
      ],
      "metadata": {
        "id": "fPrLIHi56eM0"
      },
      "execution_count": null,
      "outputs": []
    },
    {
      "cell_type": "markdown",
      "source": [
        "Starting code-server - A password will be generated for you by default which can be found at ```~/.config/code-server/config.yaml```."
      ],
      "metadata": {
        "id": "Jjy_6vy1Utuo"
      }
    },
    {
      "cell_type": "code",
      "source": [
        "%%shell\n",
        "\n",
        "# Start code-server - https://github.com/cdr/code-server\n",
        "# redirect standard output and standard error to different files\n",
        "# logs can be found in the logs/ directory\n",
        "nohup code-server --port 8000 > ./logs/code_server.out 2> ./logs/code_server.err &\n",
        "\n",
        "# Show code-server config\n",
        "cat ~/.config/code-server/config.yaml"
      ],
      "metadata": {
        "id": "yRLmLAm_PbTC"
      },
      "execution_count": null,
      "outputs": []
    },
    {
      "cell_type": "code",
      "source": [
        "# Show code-server logs\n",
        "!cat logs/code_server.out"
      ],
      "metadata": {
        "id": "x3QsYlsDPe8h"
      },
      "execution_count": null,
      "outputs": []
    },
    {
      "cell_type": "markdown",
      "source": [
        "Accessing playground\n",
        "\n",
        "code-server by default runs on localhost and needs to be securely exposed to the internet to be able to access it from a web browser. [localtunnel](https://github.com/localtunnel/localtunnel) creates a tunnel to the specified local port offering secure https for all tunnels."
      ],
      "metadata": {
        "id": "btR3NdfJUzVp"
      }
    },
    {
      "cell_type": "code",
      "source": [
        "# Start localtunnel\n",
        "# redirect standard output and standard error to different files\n",
        "# logs can be found in the logs/ directory\n",
        "!nohup lt --port 8000 > logs/cdr_tunnel.out 2> logs/cdr_tunnel.err &"
      ],
      "metadata": {
        "id": "XA4Yuzy_U9Gy"
      },
      "execution_count": null,
      "outputs": []
    },
    {
      "cell_type": "markdown",
      "source": [
        "1. The above command will connect to the localtunnel server, setup the tunnel, and tell you what url to use for your testing.\n",
        "2. **This tunnel-url is stored in ```logs/cdr_tunnel.out```**.\n",
        "3. This url will remain active for the duration of your session; so feel free to share it with others for peer programming."
      ],
      "metadata": {
        "id": "929MaIjMVA3n"
      }
    },
    {
      "cell_type": "code",
      "source": [
        "# Show localtunnel logs => tunnel-url\n",
        "!cat logs/cdr_tunnel.out"
      ],
      "metadata": {
        "id": "YJTxBUC_VBpg"
      },
      "execution_count": null,
      "outputs": []
    },
    {
      "cell_type": "markdown",
      "metadata": {
        "id": "Z4ibnCGk4AgL"
      },
      "source": [
        "# OpenSSH server process\n",
        "\n",
        "If you want to have a terminal based system with SSH access then consider running this section.\n",
        "\n",
        "Prerequisites:\n",
        "1. Updated/set-new user password (Section 2 - Who am I?)\n",
        "2. Ngrok is installed (Section 3 - Environment Setup)\n",
        "    - If you havn't executed section 3 then consider installing ngrok before proceeding further"
      ]
    },
    {
      "cell_type": "code",
      "metadata": {
        "id": "Zcfv_NKq55xf"
      },
      "source": [
        "# Setup sshd\n",
        "!apt-get install -qq -o=Dpkg::Use-Pty=0 openssh-server pwgen > /dev/null"
      ],
      "execution_count": null,
      "outputs": []
    },
    {
      "cell_type": "code",
      "metadata": {
        "id": "eAjXkSFV997z"
      },
      "source": [
        "# Run sshd\n",
        "get_ipython().system_raw('/usr/sbin/sshd -D &')"
      ],
      "execution_count": null,
      "outputs": []
    },
    {
      "cell_type": "markdown",
      "metadata": {
        "id": "baQxWfzPGdrw"
      },
      "source": [
        "1. ngrok can create a tunnel to this system and give us a publicly accessible hostname. \n",
        "2. You will need to login/sign-up, copy your auth token from ngrok dashboard and provide it in the next cell when prompted."
      ]
    },
    {
      "cell_type": "code",
      "metadata": {
        "id": "zTvJVy8t4UFM"
      },
      "source": [
        "# Set auth-token\n",
        "import getpass\n",
        "print(\"Copy your authtoken from https://dashboard.ngrok.com/auth\")\n",
        "authtoken = getpass.getpass()"
      ],
      "execution_count": null,
      "outputs": []
    },
    {
      "cell_type": "code",
      "metadata": {
        "id": "Yb0vBUD_4zGq"
      },
      "source": [
        "# Create ngrok tunnel\n",
        "get_ipython().system_raw('./ngrok authtoken $authtoken && ./ngrok tcp 22 &')"
      ],
      "execution_count": null,
      "outputs": []
    },
    {
      "cell_type": "code",
      "metadata": {
        "id": "jY-OVHIn4zrz"
      },
      "source": [
        "# Get public address and print ssh connect command\n",
        "import urllib.request, json\n",
        "with urllib.request.urlopen('http://localhost:4040/api/tunnels') as response:\n",
        "    data = json.loads(response.read().decode())\n",
        "    (host, port) = data['tunnels'][0]['public_url'][6:].split(':')\n",
        "    print(f'SSH command: ssh -p {port} root@{host}')\n",
        "print('Use root password that you update/created in cell 7')"
      ],
      "execution_count": null,
      "outputs": []
    },
    {
      "cell_type": "markdown",
      "metadata": {
        "id": "jHHDfkayG54f"
      },
      "source": [
        "If the above cell fails, try running the cell again or run the next cell which will provide you the user, hostname and port."
      ]
    },
    {
      "cell_type": "code",
      "metadata": {
        "id": "wsyfxCrzAbSu"
      },
      "source": [
        "! echo 'User: root'\n",
        "! curl -s http://localhost:4040/api/tunnels | python3 -c \"import sys, json; print(json.load(sys.stdin)['tunnels'][0]['public_url'])\"\n",
        "! echo 'Use root password that you update/created in cell 7'"
      ],
      "execution_count": null,
      "outputs": []
    },
    {
      "cell_type": "code",
      "source": [
        ""
      ],
      "metadata": {
        "id": "tgplxJrCs9zx"
      },
      "execution_count": null,
      "outputs": []
    }
  ]
}