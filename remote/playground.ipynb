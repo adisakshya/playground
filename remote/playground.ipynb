{
  "nbformat": 4,
  "nbformat_minor": 0,
  "metadata": {
    "colab": {
      "name": "playground.ipynb",
      "private_outputs": true,
      "provenance": [],
      "collapsed_sections": [
        "TJXII6Rw-AjD",
        "4_f8yoTONFmF",
        "1gqYYjvHQi8Q",
        "aGXZ7ctsQrfi",
        "YSJlH3VRSIDf"
      ]
    },
    "kernelspec": {
      "name": "python3",
      "display_name": "Python 3"
    }
  },
  "cells": [
    {
      "cell_type": "markdown",
      "metadata": {
        "id": "TJXII6Rw-AjD"
      },
      "source": [
        "# System Specifications\n",
        "\n",
        "Describe the Google Compute Engine backend powering this google-colab session."
      ]
    },
    {
      "cell_type": "code",
      "metadata": {
        "id": "zLRGPzXGKrDF"
      },
      "source": [
        "# Linux kernel version\n",
        "!uname -a"
      ],
      "execution_count": null,
      "outputs": []
    },
    {
      "cell_type": "code",
      "metadata": {
        "id": "ydPFCauxQOqm"
      },
      "source": [
        "# OS name and version\n",
        "!cat /etc/lsb-release"
      ],
      "execution_count": null,
      "outputs": []
    },
    {
      "cell_type": "code",
      "metadata": {
        "id": "CPdCl-huKdm8"
      },
      "source": [
        "# CPU architecture information\n",
        "!lscpu"
      ],
      "execution_count": null,
      "outputs": []
    },
    {
      "cell_type": "code",
      "metadata": {
        "id": "jaMQnUExJvKe"
      },
      "source": [
        "# Check disk space used by filesystem \n",
        "!df -h"
      ],
      "execution_count": null,
      "outputs": []
    },
    {
      "cell_type": "code",
      "metadata": {
        "id": "CG5DvwEdJoBQ"
      },
      "source": [
        "# Check amount of free and used memory (both physical and swap)\n",
        "# on the system as well as the shared memory and buffers used by the kernel\n",
        "!cat /proc/meminfo"
      ],
      "execution_count": null,
      "outputs": []
    },
    {
      "cell_type": "markdown",
      "metadata": {
        "id": "4_f8yoTONFmF"
      },
      "source": [
        "# Who am I?\n",
        "\n",
        "Get the user associated with the current effective user ID and update/set-new password."
      ]
    },
    {
      "cell_type": "code",
      "metadata": {
        "id": "4KAPWQJ4iI4h"
      },
      "source": [
        "# Who am I?\n",
        "!whoami"
      ],
      "execution_count": null,
      "outputs": []
    },
    {
      "cell_type": "code",
      "metadata": {
        "id": "l01NTO5lCnJV"
      },
      "source": [
        "# Update root password\n",
        "!passwd root\n",
        "\n",
        "# OR generate a new password -- uncomment below code\n",
        "# import random, string\n",
        "# rootPassword = ''.join(random.choice(string.ascii_letters + string.digits) for i in range(20))\n",
        "# print('Root Password:', rootPassword)"
      ],
      "execution_count": null,
      "outputs": []
    },
    {
      "cell_type": "code",
      "metadata": {
        "id": "7ITx8Qb14qsO"
      },
      "source": [
        "# Set root password auth\n",
        "# ! echo root:$rootPassword | chpasswd  -- uncomment this line if you are generating a new-password\n",
        "! mkdir -p /var/run/sshd\n",
        "! echo \"PermitRootLogin yes\" >> /etc/ssh/sshd_config\n",
        "! echo \"PasswordAuthentication yes\" >> /etc/ssh/sshd_config\n",
        "! echo \"LD_LIBRARY_PATH=/usr/lib64-nvidia\" >> /root/.bashrc\n",
        "! echo \"export LD_LIBRARY_PATH\" >> /root/.bashrc"
      ],
      "execution_count": null,
      "outputs": []
    },
    {
      "cell_type": "markdown",
      "metadata": {
        "id": "1gqYYjvHQi8Q"
      },
      "source": [
        "# Environment Setup\n",
        "\n",
        "Create your collection of procedures and tools for developing, testing and debugging an application or program."
      ]
    },
    {
      "cell_type": "code",
      "metadata": {
        "id": "Au56itDYeTTU"
      },
      "source": [
        "# Update the package lists for upgrades\n",
        "!apt update"
      ],
      "execution_count": null,
      "outputs": []
    },
    {
      "cell_type": "code",
      "metadata": {
        "id": "ZhytZ9Q2gxCB"
      },
      "source": [
        "%%shell\n",
        "\n",
        "# Install required tools and utilities\n",
        "apt install \\\n",
        "    build-essential \\\n",
        "    httpie \\\n",
        "    nano \\\n",
        "    software-properties-common\n",
        "\n",
        "# Update npm\n",
        "npm install -g npm\n",
        "\n",
        "# Install gtop - https://github.com/aksakalli/gtop\n",
        "npm install -g gtop"
      ],
      "execution_count": null,
      "outputs": []
    },
    {
      "cell_type": "code",
      "metadata": {
        "id": "FpBTIeptgyAQ"
      },
      "source": [
        "%%shell\n",
        "\n",
        "# Install dotfiles\n",
        "git clone --recursive https://github.com/adisakshya/dotfiles ~/.dotfiles\n",
        "chmod +x ~/.dotfiles/bootstrap\n",
        "chmod +x ~/.dotfiles/install-profile\n",
        "make linux -C ~/.dotfiles"
      ],
      "execution_count": null,
      "outputs": []
    },
    {
      "cell_type": "code",
      "metadata": {
        "id": "LsFmodMffKD7"
      },
      "source": [
        "# Install code-server - https://github.com/cdr/code-server\n",
        "!curl -fsSL https://code-server.dev/install.sh | sh"
      ],
      "execution_count": null,
      "outputs": []
    },
    {
      "cell_type": "code",
      "metadata": {
        "id": "PYDK-KjyfMFi"
      },
      "source": [
        "%%shell\n",
        "\n",
        "# Install localtunnel - https://github.com/localtunnel/localtunnel\n",
        "npm install -g localtunnel\n",
        "\n",
        "# Install ngrok - https://ngrok.com\n",
        "wget https://bin.equinox.io/c/4VmDzA7iaHb/ngrok-stable-linux-amd64.zip\n",
        "unzip ngrok-stable-linux-amd64.zip"
      ],
      "execution_count": null,
      "outputs": []
    },
    {
      "cell_type": "code",
      "metadata": {
        "id": "VG-i5I2NfZiT"
      },
      "source": [
        "# Create directory to contain log files\n",
        "!mkdir logs"
      ],
      "execution_count": null,
      "outputs": []
    },
    {
      "cell_type": "markdown",
      "metadata": {
        "id": "aGXZ7ctsQrfi"
      },
      "source": [
        "# Activate playground\n",
        "\n",
        "\n",
        "Start code-server and increase its power through extensions."
      ]
    },
    {
      "cell_type": "code",
      "metadata": {
        "id": "NLD-X1UXf9FW"
      },
      "source": [
        "# Start code-server - https://github.com/cdr/code-server\n",
        "# redirect standard output and standard error to different files\n",
        "# logs can be found in the logs/ directory\n",
        "!nohup code-server --port 8000 > logs/code_server.out 2> logs/code_server.err &"
      ],
      "execution_count": null,
      "outputs": []
    },
    {
      "cell_type": "markdown",
      "metadata": {
        "id": "5VNfrZTTvI5r"
      },
      "source": [
        "Extensions let you add languages, debuggers and tools to your installation to support your development workflow."
      ]
    },
    {
      "cell_type": "code",
      "metadata": {
        "id": "xu-WTZWo1UFd"
      },
      "source": [
        "%%shell\n",
        "\n",
        "# Install Extension Pack - https://github.com/adisakshya/extension-pack\n",
        "curl https://github.com/adisakshya/extension-pack/releases/latest/download/adisakshya-extension-pack.vsix -O -L\n",
        "code-server --install-extension adisakshya-extension-pack.vsix"
      ],
      "execution_count": null,
      "outputs": []
    },
    {
      "cell_type": "markdown",
      "metadata": {
        "id": "wBHMRmR3xIpP"
      },
      "source": [
        "code-server will generate a password for you by default which can be found at ```~/.config/code-server/config.yaml```."
      ]
    },
    {
      "cell_type": "code",
      "metadata": {
        "id": "hCk6F4d1zUIZ"
      },
      "source": [
        "%%shell\n",
        "\n",
        "# Show code-server logs\n",
        "cat logs/code_server.out\n",
        "echo ---------------------\n",
        "# Show code-server config\n",
        "cat ~/.config/code-server/config.yaml"
      ],
      "execution_count": null,
      "outputs": []
    },
    {
      "cell_type": "markdown",
      "metadata": {
        "id": "YSJlH3VRSIDf"
      },
      "source": [
        "# Accessing playground\n",
        "\n",
        "code-server by default runs on localhost and needs to be securely exposed to the internet to be able to access it from a web browser. "
      ]
    },
    {
      "cell_type": "markdown",
      "metadata": {
        "id": "ntyN3yBr2tPl"
      },
      "source": [
        "localtunnel creates a tunnel to the specified local port offering secure https for all tunnels."
      ]
    },
    {
      "cell_type": "code",
      "metadata": {
        "id": "3vYunKhhf_kh"
      },
      "source": [
        "# Start localtunnel - https://github.com/localtunnel/localtunnel\n",
        "# redirect standard output and standard error to different files\n",
        "# logs can be found in the logs/ directory\n",
        "!nohup lt --port 8000 > logs/cdr_tunnel.out 2> logs/cdr_tunnel.err &"
      ],
      "execution_count": null,
      "outputs": []
    },
    {
      "cell_type": "markdown",
      "metadata": {
        "id": "C0qBJsu7z_Pa"
      },
      "source": [
        "1. The above command will connect to the localtunnel server, setup the tunnel, and tell you what url to use for your testing.\n",
        "2. **This tunnel-url is stored in ```logs/cdr_tunnel.out```**.\n",
        "3. This url will remain active for the duration of your session; so feel free to share it with others for peer programming."
      ]
    },
    {
      "cell_type": "code",
      "metadata": {
        "id": "6etdF7Pd0Sfg"
      },
      "source": [
        "# Show localtunnel logs => tunnel-url\n",
        "!cat logs/cdr_tunnel.out"
      ],
      "execution_count": null,
      "outputs": []
    },
    {
      "cell_type": "markdown",
      "metadata": {
        "id": "Z4ibnCGk4AgL"
      },
      "source": [
        "# OpenSSH server process\n",
        "\n",
        "If you want to have a terminal based system with SSH access then consider running this section.\n",
        "\n",
        "Prerequisites:\n",
        "1. Updated/set-new user password (Section 2 - Who am I?)\n",
        "2. Ngrok is installed (Section 3 - Environment Setup)\n",
        "    - If you havn't executed section 3 then consider installing ngrok before proceeding further"
      ]
    },
    {
      "cell_type": "code",
      "metadata": {
        "id": "Zcfv_NKq55xf"
      },
      "source": [
        "# Setup sshd\n",
        "!apt-get install -qq -o=Dpkg::Use-Pty=0 openssh-server pwgen > /dev/null"
      ],
      "execution_count": null,
      "outputs": []
    },
    {
      "cell_type": "code",
      "metadata": {
        "id": "eAjXkSFV997z"
      },
      "source": [
        "# Run sshd\n",
        "get_ipython().system_raw('/usr/sbin/sshd -D &')"
      ],
      "execution_count": null,
      "outputs": []
    },
    {
      "cell_type": "markdown",
      "metadata": {
        "id": "baQxWfzPGdrw"
      },
      "source": [
        "1. ngrok can create a tunnel to this system and give us a publicly accessible hostname. \n",
        "2. You will need to login/sign-up, copy your auth token from ngrok dashboard and provide it in the next cell when prompted."
      ]
    },
    {
      "cell_type": "code",
      "metadata": {
        "id": "zTvJVy8t4UFM"
      },
      "source": [
        "# Set auth-token\n",
        "import getpass\n",
        "print(\"Copy your authtoken from https://dashboard.ngrok.com/auth\")\n",
        "authtoken = getpass.getpass()"
      ],
      "execution_count": null,
      "outputs": []
    },
    {
      "cell_type": "code",
      "metadata": {
        "id": "Yb0vBUD_4zGq"
      },
      "source": [
        "# Create ngrok tunnel\n",
        "get_ipython().system_raw('./ngrok authtoken $authtoken && ./ngrok tcp 22 &')"
      ],
      "execution_count": null,
      "outputs": []
    },
    {
      "cell_type": "code",
      "metadata": {
        "id": "jY-OVHIn4zrz"
      },
      "source": [
        "# Get public address and print ssh connect command\n",
        "import urllib.request, json\n",
        "with urllib.request.urlopen('http://localhost:4040/api/tunnels') as response:\n",
        "    data = json.loads(response.read().decode())\n",
        "    (host, port) = data['tunnels'][0]['public_url'][6:].split(':')\n",
        "    print(f'SSH command: ssh -p {port} root@{host}')\n",
        "print('Use root password that you update/created in cell 7')"
      ],
      "execution_count": null,
      "outputs": []
    },
    {
      "cell_type": "markdown",
      "metadata": {
        "id": "jHHDfkayG54f"
      },
      "source": [
        "If the above cell fails, try running the cell again or run the next cell which will provide you the user, hostname and port."
      ]
    },
    {
      "cell_type": "code",
      "metadata": {
        "id": "wsyfxCrzAbSu"
      },
      "source": [
        "! echo 'User: root'\n",
        "! curl -s http://localhost:4040/api/tunnels | python3 -c \"import sys, json; print(json.load(sys.stdin)['tunnels'][0]['public_url'])\"\n",
        "! echo 'Use root password that you update/created in cell 7'"
      ],
      "execution_count": null,
      "outputs": []
    }
  ]
}