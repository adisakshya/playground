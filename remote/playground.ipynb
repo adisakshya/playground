{
  "nbformat": 4,
  "nbformat_minor": 0,
  "metadata": {
    "colab": {
      "name": "playground.ipynb",
      "private_outputs": true,
      "provenance": [],
      "collapsed_sections": [
        "TJXII6Rw-AjD",
        "4_f8yoTONFmF",
        "1gqYYjvHQi8Q",
        "aGXZ7ctsQrfi",
        "YSJlH3VRSIDf"
      ],
      "include_colab_link": true
    },
    "kernelspec": {
      "name": "python3",
      "display_name": "Python 3"
    }
  },
  "cells": [
    {
      "cell_type": "markdown",
      "metadata": {
        "id": "view-in-github",
        "colab_type": "text"
      },
      "source": [
        "<a href=\"https://colab.research.google.com/github/adisakshya/playground/blob/remote-playground/remote/playground.ipynb\" target=\"_parent\"><img src=\"https://colab.research.google.com/assets/colab-badge.svg\" alt=\"Open In Colab\"/></a>"
      ]
    },
    {
      "cell_type": "markdown",
      "metadata": {
        "id": "TJXII6Rw-AjD"
      },
      "source": [
        "# System Specifications\r\n",
        "\r\n",
        "Describe the Google Compute Engine backend powering this google-colab session."
      ]
    },
    {
      "cell_type": "code",
      "metadata": {
        "id": "zLRGPzXGKrDF"
      },
      "source": [
        "# Linux kernel version\r\n",
        "!uname -a"
      ],
      "execution_count": null,
      "outputs": []
    },
    {
      "cell_type": "code",
      "metadata": {
        "id": "ydPFCauxQOqm"
      },
      "source": [
        "# OS name and version\r\n",
        "!cat /etc/lsb-release"
      ],
      "execution_count": null,
      "outputs": []
    },
    {
      "cell_type": "code",
      "metadata": {
        "id": "CPdCl-huKdm8"
      },
      "source": [
        "# CPU architecture information\r\n",
        "!lscpu"
      ],
      "execution_count": null,
      "outputs": []
    },
    {
      "cell_type": "code",
      "metadata": {
        "id": "jaMQnUExJvKe"
      },
      "source": [
        "# Check disk space used by filesystem \r\n",
        "!df -h"
      ],
      "execution_count": null,
      "outputs": []
    },
    {
      "cell_type": "code",
      "metadata": {
        "id": "CG5DvwEdJoBQ"
      },
      "source": [
        "# Check amount of free and used memory (both physical and swap)\r\n",
        "# on the system as well as the shared memory and buffers used by the kernel\r\n",
        "!cat /proc/meminfo"
      ],
      "execution_count": null,
      "outputs": []
    },
    {
      "cell_type": "markdown",
      "metadata": {
        "id": "4_f8yoTONFmF"
      },
      "source": [
        "# Who am I?\r\n",
        "\r\n",
        "Get the user name associated with the current effective user ID or the currently logged user."
      ]
    },
    {
      "cell_type": "code",
      "metadata": {
        "id": "4KAPWQJ4iI4h"
      },
      "source": [
        "# Who am I?\r\n",
        "!whoami"
      ],
      "execution_count": null,
      "outputs": []
    },
    {
      "cell_type": "markdown",
      "metadata": {
        "id": "1gqYYjvHQi8Q"
      },
      "source": [
        "# Environment Setup\r\n",
        "\r\n",
        "Create your collection of procedures and tools for developing, testing and debugging an application or program."
      ]
    },
    {
      "cell_type": "code",
      "metadata": {
        "id": "Au56itDYeTTU"
      },
      "source": [
        "# Update the package lists for upgrades\r\n",
        "!apt update"
      ],
      "execution_count": null,
      "outputs": []
    },
    {
      "cell_type": "code",
      "metadata": {
        "id": "ZhytZ9Q2gxCB"
      },
      "source": [
        "%%shell\r\n",
        "\r\n",
        "# Install required tools and utilities\r\n",
        "apt install \\\r\n",
        "    build-essential \\\r\n",
        "    httpie \\\r\n",
        "    software-properties-common\r\n",
        "\r\n",
        "# Update npm\r\n",
        "npm install -g npm\r\n",
        "\r\n",
        "# Install gtop - https://github.com/aksakalli/gtop\r\n",
        "npm install -g gtop"
      ],
      "execution_count": null,
      "outputs": []
    },
    {
      "cell_type": "code",
      "metadata": {
        "id": "LsFmodMffKD7"
      },
      "source": [
        "# Install code-server - https://github.com/cdr/code-server\r\n",
        "!curl -fsSL https://code-server.dev/install.sh | sh"
      ],
      "execution_count": null,
      "outputs": []
    },
    {
      "cell_type": "code",
      "metadata": {
        "id": "PYDK-KjyfMFi"
      },
      "source": [
        "%%shell\r\n",
        "\r\n",
        "# Install localtunnel - https://github.com/localtunnel/localtunnel\r\n",
        "npm install -g localtunnel\r\n",
        "\r\n",
        "# Install ngrok - https://ngrok.com\r\n",
        "wget https://bin.equinox.io/c/4VmDzA7iaHb/ngrok-stable-linux-amd64.zip\r\n",
        "unzip ngrok-stable-linux-amd64.zip\r\n",
        "mv ./ngrok /usr/bin/ngrok"
      ],
      "execution_count": null,
      "outputs": []
    },
    {
      "cell_type": "code",
      "metadata": {
        "id": "VG-i5I2NfZiT"
      },
      "source": [
        "# Create directory to contain log files\r\n",
        "!mkdir logs"
      ],
      "execution_count": null,
      "outputs": []
    },
    {
      "cell_type": "markdown",
      "metadata": {
        "id": "aGXZ7ctsQrfi"
      },
      "source": [
        "# Activate playground\r\n",
        "\r\n",
        "\r\n",
        "Start code-server and increase its power through extensions."
      ]
    },
    {
      "cell_type": "code",
      "metadata": {
        "id": "NLD-X1UXf9FW"
      },
      "source": [
        "# Start code-server - https://github.com/cdr/code-server\r\n",
        "# redirect standard output and standard error to different files\r\n",
        "# logs can be found in the logs/ directory\r\n",
        "!nohup code-server --port 8000 > logs/code_server.out 2> logs/code_server.err &"
      ],
      "execution_count": null,
      "outputs": []
    },
    {
      "cell_type": "markdown",
      "metadata": {
        "id": "5VNfrZTTvI5r"
      },
      "source": [
        "Extensions let you add languages, debuggers and tools to your installation to support your development workflow."
      ]
    },
    {
      "cell_type": "code",
      "metadata": {
        "id": "uWvvUMHA7E-i"
      },
      "source": [
        "%%shell\r\n",
        "\r\n",
        "# Install required extensions\r\n",
        "extensions=(\r\n",
        "    'github.github-vscode-theme'\r\n",
        "    'grapecity.gc-excelviewer'\r\n",
        "    'ms-python.python'\r\n",
        "    'ms-toolsai.jupyter'\r\n",
        "    'ms-vscode.cpptools'\r\n",
        "    'ritwickdey.liveserver'\r\n",
        "    'vscode-icons-team.vscode-icons'\r\n",
        ")\r\n",
        "for extension in ${extensions[@]}; \r\n",
        "    do code-server --install-extension ${extension};\r\n",
        "done"
      ],
      "execution_count": null,
      "outputs": []
    },
    {
      "cell_type": "markdown",
      "metadata": {
        "id": "wBHMRmR3xIpP"
      },
      "source": [
        "code-server will generate a password for you by default which can be found at ```~/.config/code-server/config.yaml```."
      ]
    },
    {
      "cell_type": "code",
      "metadata": {
        "id": "hCk6F4d1zUIZ"
      },
      "source": [
        "%%shell\r\n",
        "\r\n",
        "# Show code-server logs\r\n",
        "cat logs/code_server.out\r\n",
        "echo ---------------------\r\n",
        "# Show code-server config\r\n",
        "cat ~/.config/code-server/config.yaml"
      ],
      "execution_count": null,
      "outputs": []
    },
    {
      "cell_type": "markdown",
      "metadata": {
        "id": "YSJlH3VRSIDf"
      },
      "source": [
        "# Accessing playground\r\n",
        "\r\n",
        "code-server by default runs on localhost and needs to be securely exposed to the internet to be able to access it from a web browser. "
      ]
    },
    {
      "cell_type": "markdown",
      "metadata": {
        "id": "ntyN3yBr2tPl"
      },
      "source": [
        "localtunnel creates a tunnel to the specified local port offering secure https for all tunnels."
      ]
    },
    {
      "cell_type": "code",
      "metadata": {
        "id": "3vYunKhhf_kh"
      },
      "source": [
        "# Start localtunnel - https://github.com/localtunnel/localtunnel\r\n",
        "# redirect standard output and standard error to different files\r\n",
        "# logs can be found in the logs/ directory\r\n",
        "!nohup lt --port 8000 > logs/cdr_tunnel.out 2> logs/cdr_tunnel.err &"
      ],
      "execution_count": null,
      "outputs": []
    },
    {
      "cell_type": "markdown",
      "metadata": {
        "id": "C0qBJsu7z_Pa"
      },
      "source": [
        "1. The above command will connect to the tunnel server, setup the tunnel, and tell you what url to use for your testing.\r\n",
        "2. **This tunnel-url is stored in ```logs/cdr_tunnel.out```**.\r\n",
        "3. This url will remain active for the duration of your session; so feel free to share it with others for peer programming."
      ]
    },
    {
      "cell_type": "code",
      "metadata": {
        "id": "6etdF7Pd0Sfg"
      },
      "source": [
        "# Show localtunnel logs => tunnel-url\r\n",
        "!cat logs/cdr_tunnel.out"
      ],
      "execution_count": null,
      "outputs": []
    },
    {
      "cell_type": "code",
      "metadata": {
        "id": "eAjXkSFV997z"
      },
      "source": [
        ""
      ],
      "execution_count": null,
      "outputs": []
    }
  ]
}