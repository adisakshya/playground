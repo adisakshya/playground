{
  "nbformat": 4,
  "nbformat_minor": 0,
  "metadata": {
    "colab": {
      "name": "playground.ipynb",
      "private_outputs": true,
      "provenance": [],
      "collapsed_sections": [
        "TJXII6Rw-AjD",
        "4_f8yoTONFmF",
        "1gqYYjvHQi8Q",
        "aGXZ7ctsQrfi",
        "YSJlH3VRSIDf"
      ]
    },
    "kernelspec": {
      "name": "python3",
      "display_name": "Python 3"
    }
  },
  "cells": [
    {
      "cell_type": "markdown",
      "metadata": {
        "id": "TJXII6Rw-AjD"
      },
      "source": [
        "# System Specifications\r\n",
        "\r\n",
        "Describe the Google Compute Engine backend powering this google-colab session."
      ]
    },
    {
      "cell_type": "code",
      "metadata": {
        "id": "zLRGPzXGKrDF"
      },
      "source": [
        "# Linux kernel version\r\n",
        "!uname -a"
      ],
      "execution_count": null,
      "outputs": []
    },
    {
      "cell_type": "code",
      "metadata": {
        "id": "ydPFCauxQOqm"
      },
      "source": [
        "# OS name and version\r\n",
        "!cat /etc/lsb-release"
      ],
      "execution_count": null,
      "outputs": []
    },
    {
      "cell_type": "code",
      "metadata": {
        "id": "CPdCl-huKdm8"
      },
      "source": [
        "# CPU architecture information\r\n",
        "!lscpu"
      ],
      "execution_count": null,
      "outputs": []
    },
    {
      "cell_type": "code",
      "metadata": {
        "id": "jaMQnUExJvKe"
      },
      "source": [
        "# Check disk space used by filesystem \r\n",
        "!df -h"
      ],
      "execution_count": null,
      "outputs": []
    },
    {
      "cell_type": "code",
      "metadata": {
        "id": "CG5DvwEdJoBQ"
      },
      "source": [
        "# Check amount of free and used memory (both physical and swap)\r\n",
        "# on the system as well as the shared memory and buffers used by the kernel\r\n",
        "!cat /proc/meminfo"
      ],
      "execution_count": null,
      "outputs": []
    },
    {
      "cell_type": "markdown",
      "metadata": {
        "id": "4_f8yoTONFmF"
      },
      "source": [
        "# Who am I?\r\n",
        "\r\n",
        "Get the user associated with the current effective user ID and update/set-new password."
      ]
    },
    {
      "cell_type": "code",
      "metadata": {
        "id": "4KAPWQJ4iI4h"
      },
      "source": [
        "# Who am I?\r\n",
        "!whoami"
      ],
      "execution_count": null,
      "outputs": []
    },
    {
      "cell_type": "code",
      "metadata": {
        "id": "l01NTO5lCnJV"
      },
      "source": [
        "# Update root password\r\n",
        "!passwd root\r\n",
        "\r\n",
        "# OR generate a new password -- uncomment below code\r\n",
        "# import random, string\r\n",
        "# rootPassword = ''.join(random.choice(string.ascii_letters + string.digits) for i in range(20))\r\n",
        "# print('Root Password:', rootPassword)"
      ],
      "execution_count": null,
      "outputs": []
    },
    {
      "cell_type": "code",
      "metadata": {
        "id": "7ITx8Qb14qsO"
      },
      "source": [
        "# Set root password auth\r\n",
        "# ! echo root:$rootPassword | chpasswd  -- uncomment this line if you are generating a new-password\r\n",
        "! mkdir -p /var/run/sshd\r\n",
        "! echo \"PermitRootLogin yes\" >> /etc/ssh/sshd_config\r\n",
        "! echo \"PasswordAuthentication yes\" >> /etc/ssh/sshd_config\r\n",
        "! echo \"LD_LIBRARY_PATH=/usr/lib64-nvidia\" >> /root/.bashrc\r\n",
        "! echo \"export LD_LIBRARY_PATH\" >> /root/.bashrc"
      ],
      "execution_count": null,
      "outputs": []
    },
    {
      "cell_type": "markdown",
      "metadata": {
        "id": "1gqYYjvHQi8Q"
      },
      "source": [
        "# Environment Setup\r\n",
        "\r\n",
        "Create your collection of procedures and tools for developing, testing and debugging an application or program."
      ]
    },
    {
      "cell_type": "code",
      "metadata": {
        "id": "Au56itDYeTTU"
      },
      "source": [
        "# Update the package lists for upgrades\r\n",
        "!apt update"
      ],
      "execution_count": null,
      "outputs": []
    },
    {
      "cell_type": "code",
      "metadata": {
        "id": "ZhytZ9Q2gxCB"
      },
      "source": [
        "%%shell\r\n",
        "\r\n",
        "# Install required tools and utilities\r\n",
        "apt install \\\r\n",
        "    build-essential \\\r\n",
        "    httpie \\\r\n",
        "    software-properties-common\r\n",
        "\r\n",
        "# Update npm\r\n",
        "npm install -g npm\r\n",
        "\r\n",
        "# Install gtop - https://github.com/aksakalli/gtop\r\n",
        "npm install -g gtop"
      ],
      "execution_count": null,
      "outputs": []
    },
    {
      "cell_type": "code",
      "metadata": {
        "id": "LsFmodMffKD7"
      },
      "source": [
        "# Install code-server - https://github.com/cdr/code-server\r\n",
        "!curl -fsSL https://code-server.dev/install.sh | sh"
      ],
      "execution_count": null,
      "outputs": []
    },
    {
      "cell_type": "code",
      "metadata": {
        "id": "PYDK-KjyfMFi"
      },
      "source": [
        "%%shell\r\n",
        "\r\n",
        "# Install localtunnel - https://github.com/localtunnel/localtunnel\r\n",
        "npm install -g localtunnel\r\n",
        "\r\n",
        "# Install ngrok - https://ngrok.com\r\n",
        "wget https://bin.equinox.io/c/4VmDzA7iaHb/ngrok-stable-linux-amd64.zip\r\n",
        "unzip ngrok-stable-linux-amd64.zip"
      ],
      "execution_count": null,
      "outputs": []
    },
    {
      "cell_type": "code",
      "metadata": {
        "id": "VG-i5I2NfZiT"
      },
      "source": [
        "# Create directory to contain log files\r\n",
        "!mkdir logs"
      ],
      "execution_count": null,
      "outputs": []
    },
    {
      "cell_type": "markdown",
      "metadata": {
        "id": "aGXZ7ctsQrfi"
      },
      "source": [
        "# Activate playground\r\n",
        "\r\n",
        "\r\n",
        "Start code-server and increase its power through extensions."
      ]
    },
    {
      "cell_type": "code",
      "metadata": {
        "id": "NLD-X1UXf9FW"
      },
      "source": [
        "# Start code-server - https://github.com/cdr/code-server\r\n",
        "# redirect standard output and standard error to different files\r\n",
        "# logs can be found in the logs/ directory\r\n",
        "!nohup code-server --port 8000 > logs/code_server.out 2> logs/code_server.err &"
      ],
      "execution_count": null,
      "outputs": []
    },
    {
      "cell_type": "markdown",
      "metadata": {
        "id": "5VNfrZTTvI5r"
      },
      "source": [
        "Extensions let you add languages, debuggers and tools to your installation to support your development workflow."
      ]
    },
    {
      "cell_type": "code",
      "metadata": {
        "id": "uWvvUMHA7E-i"
      },
      "source": [
        "%%shell\r\n",
        "\r\n",
        "# Install required extensions\r\n",
        "extensions=(\r\n",
        "    'github.github-vscode-theme'\r\n",
        "    'grapecity.gc-excelviewer'\r\n",
        "    'ms-python.python'\r\n",
        "    'ms-toolsai.jupyter'\r\n",
        "    'ms-vscode.cpptools'\r\n",
        "    'ritwickdey.liveserver'\r\n",
        "    'vscode-icons-team.vscode-icons'\r\n",
        ")\r\n",
        "for extension in ${extensions[@]}; \r\n",
        "    do code-server --install-extension ${extension};\r\n",
        "done"
      ],
      "execution_count": null,
      "outputs": []
    },
    {
      "cell_type": "markdown",
      "metadata": {
        "id": "wBHMRmR3xIpP"
      },
      "source": [
        "code-server will generate a password for you by default which can be found at ```~/.config/code-server/config.yaml```."
      ]
    },
    {
      "cell_type": "code",
      "metadata": {
        "id": "hCk6F4d1zUIZ"
      },
      "source": [
        "%%shell\r\n",
        "\r\n",
        "# Show code-server logs\r\n",
        "cat logs/code_server.out\r\n",
        "echo ---------------------\r\n",
        "# Show code-server config\r\n",
        "cat ~/.config/code-server/config.yaml"
      ],
      "execution_count": null,
      "outputs": []
    },
    {
      "cell_type": "markdown",
      "metadata": {
        "id": "YSJlH3VRSIDf"
      },
      "source": [
        "# Accessing playground\r\n",
        "\r\n",
        "code-server by default runs on localhost and needs to be securely exposed to the internet to be able to access it from a web browser. "
      ]
    },
    {
      "cell_type": "markdown",
      "metadata": {
        "id": "ntyN3yBr2tPl"
      },
      "source": [
        "localtunnel creates a tunnel to the specified local port offering secure https for all tunnels."
      ]
    },
    {
      "cell_type": "code",
      "metadata": {
        "id": "3vYunKhhf_kh"
      },
      "source": [
        "# Start localtunnel - https://github.com/localtunnel/localtunnel\r\n",
        "# redirect standard output and standard error to different files\r\n",
        "# logs can be found in the logs/ directory\r\n",
        "!nohup lt --port 8000 > logs/cdr_tunnel.out 2> logs/cdr_tunnel.err &"
      ],
      "execution_count": null,
      "outputs": []
    },
    {
      "cell_type": "markdown",
      "metadata": {
        "id": "C0qBJsu7z_Pa"
      },
      "source": [
        "1. The above command will connect to the localtunnel server, setup the tunnel, and tell you what url to use for your testing.\r\n",
        "2. **This tunnel-url is stored in ```logs/cdr_tunnel.out```**.\r\n",
        "3. This url will remain active for the duration of your session; so feel free to share it with others for peer programming."
      ]
    },
    {
      "cell_type": "code",
      "metadata": {
        "id": "6etdF7Pd0Sfg"
      },
      "source": [
        "# Show localtunnel logs => tunnel-url\r\n",
        "!cat logs/cdr_tunnel.out"
      ],
      "execution_count": null,
      "outputs": []
    },
    {
      "cell_type": "markdown",
      "metadata": {
        "id": "Z4ibnCGk4AgL"
      },
      "source": [
        "# OpenSSH server process\r\n",
        "\r\n",
        "If you want to have a terminal based system with SSH access then consider running this section.\r\n",
        "\r\n",
        "Prerequisites:\r\n",
        "1. Updated/set-new user password (Section 2 - Who am I?)\r\n",
        "2. Ngrok is installed (Section 3 - Environment Setup)\r\n",
        "    - If you havn't executed section 3 then consider installing ngrok before proceeding further"
      ]
    },
    {
      "cell_type": "code",
      "metadata": {
        "id": "Zcfv_NKq55xf"
      },
      "source": [
        "# Setup sshd\r\n",
        "!apt-get install -qq -o=Dpkg::Use-Pty=0 openssh-server pwgen > /dev/null"
      ],
      "execution_count": null,
      "outputs": []
    },
    {
      "cell_type": "code",
      "metadata": {
        "id": "eAjXkSFV997z"
      },
      "source": [
        "# Run sshd\r\n",
        "get_ipython().system_raw('/usr/sbin/sshd -D &')"
      ],
      "execution_count": null,
      "outputs": []
    },
    {
      "cell_type": "markdown",
      "metadata": {
        "id": "baQxWfzPGdrw"
      },
      "source": [
        "1. ngrok can create a tunnel to this system and give us a publicly accessible hostname. \r\n",
        "2. You will need to login/sign-up, copy your auth token from ngrok dashboard and provide it in the next cell when prompted."
      ]
    },
    {
      "cell_type": "code",
      "metadata": {
        "id": "zTvJVy8t4UFM"
      },
      "source": [
        "# Set auth-token\r\n",
        "import getpass\r\n",
        "print(\"Copy your authtoken from https://dashboard.ngrok.com/auth\")\r\n",
        "authtoken = getpass.getpass()"
      ],
      "execution_count": null,
      "outputs": []
    },
    {
      "cell_type": "code",
      "metadata": {
        "id": "Yb0vBUD_4zGq"
      },
      "source": [
        "# Create ngrok tunnel\r\n",
        "get_ipython().system_raw('./ngrok authtoken $authtoken && ./ngrok tcp 22 &')"
      ],
      "execution_count": null,
      "outputs": []
    },
    {
      "cell_type": "code",
      "metadata": {
        "id": "jY-OVHIn4zrz"
      },
      "source": [
        "# Get public address and print ssh connect command\r\n",
        "import urllib.request, json\r\n",
        "with urllib.request.urlopen('http://localhost:4040/api/tunnels') as response:\r\n",
        "    data = json.loads(response.read().decode())\r\n",
        "    (host, port) = data['tunnels'][0]['public_url'][6:].split(':')\r\n",
        "    print(f'SSH command: ssh -p {port} root@{host}')\r\n",
        "print('Use root password that you update/created in cell 7')"
      ],
      "execution_count": null,
      "outputs": []
    },
    {
      "cell_type": "markdown",
      "metadata": {
        "id": "jHHDfkayG54f"
      },
      "source": [
        "If the above cell fails, try running the cell again or run the next cell which will provide you the user, hostname and port."
      ]
    },
    {
      "cell_type": "code",
      "metadata": {
        "id": "wsyfxCrzAbSu"
      },
      "source": [
        "! echo 'User: root'\r\n",
        "! curl -s http://localhost:4040/api/tunnels | python3 -c \"import sys, json; print(json.load(sys.stdin)['tunnels'][0]['public_url'])\"\r\n",
        "! echo 'Use root password that you update/created in cell 7'"
      ],
      "execution_count": null,
      "outputs": []
    }
  ]
}